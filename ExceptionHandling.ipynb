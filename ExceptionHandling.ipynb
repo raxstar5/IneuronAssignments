{
 "cells": [
  {
   "cell_type": "code",
   "execution_count": 4,
   "id": "da848b43",
   "metadata": {},
   "outputs": [
    {
     "name": "stdout",
     "output_type": "stream",
     "text": [
      "Quotient: 2.5\n",
      "Division by zero isn't allowed\n"
     ]
    }
   ],
   "source": [
    "#1.Write a function to compute 5/0 and use try/except to catch the exceptions.\n",
    "\n",
    "def fun(num, den):\n",
    "    try :\n",
    "        q = (num/den)\n",
    "        print(\"Quotient:\", q)\n",
    "    except ZeroDivisionError:\n",
    "        print(\"Division by zero isn't allowed\")\n",
    "\n",
    "fun(5,2)\n",
    "fun(5,0)\n",
    "        "
   ]
  },
  {
   "cell_type": "code",
   "execution_count": 6,
   "id": "1f4ab853",
   "metadata": {},
   "outputs": [
    {
     "name": "stdout",
     "output_type": "stream",
     "text": [
      "Americans  play Baseball\n",
      "Americans  play Cricket\n",
      "Americans  watch Baseball\n",
      "Americans  watch Cricket\n",
      "Indians play Baseball\n",
      "Indians play Cricket\n",
      "Indians watch Baseball\n",
      "Indians watch Cricket\n"
     ]
    }
   ],
   "source": [
    "\n",
    "# 2. Implement a Python program to generate all sentences where subject is in\n",
    "# [\"Americans\", \"Indians\"] and verb is in [\"Play\", \"watch\"] and the object is in\n",
    "# [\"Baseball\",\"cricket\"].\n",
    "\n",
    "subjects=[\"Americans \",\"Indians\"]\n",
    "verbs=[\"play\",\"watch\"]\n",
    "objects=[\"Baseball\",\"Cricket\"]\n",
    "\n",
    "for subject in subjects:\n",
    "    for verb in verbs:\n",
    "        for object in objects:\n",
    "            print(subject+\" \"+verb+\" \"+object)"
   ]
  },
  {
   "cell_type": "code",
   "execution_count": null,
   "id": "8afe0567",
   "metadata": {},
   "outputs": [],
   "source": []
  }
 ],
 "metadata": {
  "kernelspec": {
   "display_name": "Python 3 (ipykernel)",
   "language": "python",
   "name": "python3"
  },
  "language_info": {
   "codemirror_mode": {
    "name": "ipython",
    "version": 3
   },
   "file_extension": ".py",
   "mimetype": "text/x-python",
   "name": "python",
   "nbconvert_exporter": "python",
   "pygments_lexer": "ipython3",
   "version": "3.9.6"
  }
 },
 "nbformat": 4,
 "nbformat_minor": 5
}
