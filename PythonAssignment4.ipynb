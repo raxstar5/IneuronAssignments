{
 "cells": [
  {
   "cell_type": "code",
   "execution_count": 20,
   "id": "eeff1278",
   "metadata": {},
   "outputs": [
    {
     "name": "stdout",
     "output_type": "stream",
     "text": [
      "1\n",
      "2\n",
      "3\n",
      "Area of Triangle:<bound method derived.area of <__main__.derived object at 0x00000202C9C6FEE0>>\n"
     ]
    }
   ],
   "source": [
    "# 1.1 Write a Python Program(with class concepts) to find the area of the triangle using the below\n",
    "# formula.\n",
    "# area = (s*(s-a)*(s-b)*(s-c)) ** 0.5\n",
    "# Function to take the length of the sides of triangle from user should be defined in the parent\n",
    "# class and function to calculate the area should be defined in subclass.\n",
    "\n",
    "class parent:\n",
    "     def __init__(self,a,b,c):\n",
    "            self.a = a\n",
    "            self.b = b\n",
    "            self.c = c\n",
    "            \n",
    "class derived(parent):\n",
    "    def __init__(self, a, b, c):\n",
    "        super(derived, self).__init__(a, b, c)\n",
    "        \n",
    "    def area(self):\n",
    "        s = (self.a+self.b+self.c)/2\n",
    "        return (s*(s-self.a)*(s-self.b)*(s-self.c)) ** 0.5\n",
    "\n",
    "a = int(input())\n",
    "b = int(input())\n",
    "c = int(input())\n",
    "\n",
    "area1 = derived(a,b,c)\n",
    "print(\"Area of Triangle:\" + str(area1.area() )"
   ]
  },
  {
   "cell_type": "code",
   "execution_count": 8,
   "id": "45347b89",
   "metadata": {},
   "outputs": [
    {
     "name": "stdout",
     "output_type": "stream",
     "text": [
      "[69, 76, 78, 106, 58, 71]\n"
     ]
    }
   ],
   "source": [
    "# 1.2 Write a function filter_long_words() that takes a list of words and an integer n and returns\n",
    "# the list of words that are longer than n.\n",
    "\n",
    "def filter_long_words(list1, n):\n",
    "    list2 = list()\n",
    "    for i in list1:\n",
    "        if(i > n):\n",
    "            list2.append(i)\n",
    "    return list2\n",
    "            \n",
    "list1 = [23,45,69,76,23,45,78,24,106,58,71,29,32]\n",
    "n = 50\n",
    "\n",
    "list2 = filter_long_words(list1,n)\n",
    "print(list2)\n",
    "\n",
    "    "
   ]
  },
  {
   "cell_type": "code",
   "execution_count": 9,
   "id": "44d92310",
   "metadata": {},
   "outputs": [
    {
     "name": "stdout",
     "output_type": "stream",
     "text": [
      "[2, 3, 4, 5, 5, 4, 6]\n"
     ]
    }
   ],
   "source": [
    "# 2.1 Write a Python program using function concept that maps list of words into a list of integers\n",
    "# representing the lengths of the corresponding words.\n",
    "\n",
    "def fun(words):\n",
    "    list1 = list()\n",
    "    for word in words:\n",
    "        len1 = len(word)\n",
    "        list1.append(len1)\n",
    "    return list1   \n",
    "    \n",
    "    \n",
    "words = [\"ab\",\"cde\",\"erty\",\"lmnop\",\"wrstu\",\"wzxc\",\"zxcvbn\"]\n",
    "list2 = fun(words)\n",
    "print(list2)"
   ]
  },
  {
   "cell_type": "code",
   "execution_count": 16,
   "id": "cfc87dd4",
   "metadata": {},
   "outputs": [
    {
     "name": "stdout",
     "output_type": "stream",
     "text": [
      "Enter a string of length 1e\n",
      "True\n"
     ]
    }
   ],
   "source": [
    "# 2.2 Write a Python function which takes a character (i.e. a string of length 1) and returns True if\n",
    "# it is a vowel, False otherwise.\n",
    "\n",
    "def fun(char):\n",
    "    if(char == 'a' or char == 'e' or char == 'i' or char == 'o' or char == 'u'):\n",
    "        return True\n",
    "    else:\n",
    "        return False\n",
    "\n",
    "print(fun(input('Enter a string of length 1')))\n",
    "\n",
    " "
   ]
  },
  {
   "cell_type": "code",
   "execution_count": null,
   "id": "d4f3f21f",
   "metadata": {},
   "outputs": [],
   "source": []
  }
 ],
 "metadata": {
  "kernelspec": {
   "display_name": "Python 3 (ipykernel)",
   "language": "python",
   "name": "python3"
  },
  "language_info": {
   "codemirror_mode": {
    "name": "ipython",
    "version": 3
   },
   "file_extension": ".py",
   "mimetype": "text/x-python",
   "name": "python",
   "nbconvert_exporter": "python",
   "pygments_lexer": "ipython3",
   "version": "3.9.6"
  }
 },
 "nbformat": 4,
 "nbformat_minor": 5
}
