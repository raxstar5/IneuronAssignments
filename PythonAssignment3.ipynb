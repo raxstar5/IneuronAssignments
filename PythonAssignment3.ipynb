{
 "cells": [
  {
   "cell_type": "code",
   "execution_count": 1,
   "id": "32b3630d",
   "metadata": {},
   "outputs": [
    {
     "name": "stdout",
     "output_type": "stream",
     "text": [
      "50\n"
     ]
    }
   ],
   "source": [
    "#1.1\n",
    "\n",
    "# myreduce function to implement reduce() in python\n",
    "# Here it returns the sum given the iterables and the function\n",
    "\n",
    "def myreduce(add,list_1):\n",
    "    return a\n",
    "\n",
    "def add(a,b):\n",
    "    return a+b\n",
    "\n",
    "list_1=[13,12,5,10,10]\n",
    "a=list_1[0]\n",
    "for i in range(1,len(list_1)):\n",
    "    b=list_1[i]\n",
    "    a=add(a,b)\n",
    "\n",
    "print(myreduce(add,list_1))"
   ]
  },
  {
   "cell_type": "code",
   "execution_count": 3,
   "id": "53f6108f",
   "metadata": {},
   "outputs": [
    {
     "name": "stdout",
     "output_type": "stream",
     "text": [
      "[26, 42, 68, 86, 10]\n"
     ]
    }
   ],
   "source": [
    "#1.2\n",
    "\n",
    "# Implemented filter function\n",
    "# Here, it returns the even numbers from the list\n",
    "\n",
    "def myfilter(is_even,list_2):\n",
    "    return is_even(a)\n",
    "list_2=[26,31,42,51,68,71,86,91,10]\n",
    "list_3=[]\n",
    "def is_even(a):\n",
    "    for i in list_2:\n",
    "        if i%2==0:\n",
    "            list_3.append(i)\n",
    "    print(list_3)\n",
    "myfilter(is_even,list_2)\n",
    "\n"
   ]
  },
  {
   "cell_type": "code",
   "execution_count": 11,
   "id": "f8c64c07",
   "metadata": {},
   "outputs": [
    {
     "name": "stdout",
     "output_type": "stream",
     "text": [
      "['x', 'xx', 'xxx', 'xxxx', 'y', 'yy', 'yyy', 'yyyy', 'z', 'zz', 'zzz', 'zzzz']\n",
      "['x', 'y', 'z', 'xx', 'yy', 'zz', 'xxx', 'yyy', 'zzz', 'xxxx', 'yyyy', 'zzzz']\n",
      "[[2], [3], [4], [3], [4], [5], [4], [5], [6]]\n",
      "[[2, 3, 4, 5], [3, 4, 5, 6], [4, 5, 6, 7], [5, 6, 7, 8]]\n",
      "[(1, 1), (2, 1), (3, 1), (1, 2), (2, 2), (3, 2), (1, 3), (2, 3), (3, 3)]\n"
     ]
    }
   ],
   "source": [
    "# 2.\n",
    "temp = ['x','y','z']\n",
    "\n",
    "list1 = [char * num for char in temp for num in range(1,5)]\n",
    "print(list1)\n",
    "\n",
    "list2 = [char * num for num in range(1,5) for char in temp]\n",
    "print(list2)\n",
    "\n",
    "numarr = [2, 3, 4]\n",
    "list3 = [ [num + val] for num in numarr for val in range(0,3)]\n",
    "print(list3)\n",
    "\n",
    "numarr2 = [2,3,4,5]\n",
    "list4 = [ [num+val for num in numarr2] for val in range(0,4)]\n",
    "print(list4)\n",
    "\n",
    "numarr3 = [1,2,3]\n",
    "list5 = [ (num,val) for val in range(1,4) for num in numarr3 ]\n",
    "print(list5)"
   ]
  },
  {
   "cell_type": "code",
   "execution_count": null,
   "id": "45fdd710",
   "metadata": {},
   "outputs": [],
   "source": []
  }
 ],
 "metadata": {
  "kernelspec": {
   "display_name": "Python 3 (ipykernel)",
   "language": "python",
   "name": "python3"
  },
  "language_info": {
   "codemirror_mode": {
    "name": "ipython",
    "version": 3
   },
   "file_extension": ".py",
   "mimetype": "text/x-python",
   "name": "python",
   "nbconvert_exporter": "python",
   "pygments_lexer": "ipython3",
   "version": "3.9.6"
  }
 },
 "nbformat": 4,
 "nbformat_minor": 5
}
